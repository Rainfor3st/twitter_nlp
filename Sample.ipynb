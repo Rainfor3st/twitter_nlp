{
 "cells": [
  {
   "cell_type": "markdown",
   "id": "fce23b3f",
   "metadata": {},
   "source": [
    "# M is shortcut for text\n"
   ]
  },
  {
   "cell_type": "markdown",
   "id": "c5fc41e7",
   "metadata": {},
   "source": [
    "### Small header press 1,2,3\n"
   ]
  },
  {
   "cell_type": "markdown",
   "id": "adcc00ad",
   "metadata": {},
   "source": [
    "## Twitter NLP Notebook"
   ]
  },
  {
   "cell_type": "markdown",
   "id": "e3aed7d3",
   "metadata": {},
   "source": [
    "Here is how I calculate `1 + 1`:\n"
   ]
  },
  {
   "cell_type": "code",
   "execution_count": 3,
   "id": "dea302a1",
   "metadata": {
    "scrolled": true
   },
   "outputs": [
    {
     "data": {
      "text/plain": [
       "2"
      ]
     },
     "execution_count": 3,
     "metadata": {},
     "output_type": "execute_result"
    }
   ],
   "source": [
    "1 + 1"
   ]
  },
  {
   "cell_type": "code",
   "execution_count": 4,
   "id": "8977f396",
   "metadata": {},
   "outputs": [],
   "source": [
    "from numpy import *"
   ]
  },
  {
   "cell_type": "markdown",
   "id": "2e6b920e",
   "metadata": {},
   "source": [
    "Here is how I calculate `sin`:\n"
   ]
  },
  {
   "cell_type": "code",
   "execution_count": 6,
   "id": "4b0c44d4",
   "metadata": {},
   "outputs": [
    {
     "data": {
      "text/plain": [
       "array([0.84147098, 1.        ])"
      ]
     },
     "execution_count": 6,
     "metadata": {},
     "output_type": "execute_result"
    }
   ],
   "source": [
    "a = array([1,pi/2])\n",
    "sin(a)"
   ]
  },
  {
   "cell_type": "code",
   "execution_count": null,
   "id": "0068a33f",
   "metadata": {},
   "outputs": [],
   "source": []
  }
 ],
 "metadata": {
  "kernelspec": {
   "display_name": "Python 3 (ipykernel)",
   "language": "python",
   "name": "python3"
  },
  "language_info": {
   "codemirror_mode": {
    "name": "ipython",
    "version": 3
   },
   "file_extension": ".py",
   "mimetype": "text/x-python",
   "name": "python",
   "nbconvert_exporter": "python",
   "pygments_lexer": "ipython3",
   "version": "3.10.8"
  }
 },
 "nbformat": 4,
 "nbformat_minor": 5
}
